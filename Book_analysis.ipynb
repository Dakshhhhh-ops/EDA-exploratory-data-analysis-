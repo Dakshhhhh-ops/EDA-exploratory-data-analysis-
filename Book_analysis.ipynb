{
 "cells": [
  {
   "cell_type": "markdown",
   "id": "ac5cd2fc",
   "metadata": {},
   "source": [
    "## 📚 Data Dive into Book Sales & Trends\n",
    "\n",
    "Just wrapped up an insightful data analysis project exploring the **Books.csv** dataset using Python, Pandas, Matplotlib, and Seaborn!\n",
    "\n",
    "Here’s what I explored and discovered:\n",
    "\n",
    "🔍 **Initial Data Cleanup:**\n",
    "- Removed duplicate entries & null values\n",
    "- Filtered out books published before 1900 to focus on relevant data\n",
    "\n",
    "📊 **Visual Insights:**\n",
    "- **Histograms** showed how publishing frequency evolved over time\n",
    "- **Pie Charts** revealed dominant genres and language preferences\n",
    "- **Boxplots** and **scatterplots** highlighted patterns between:\n",
    "  - Genre & ratings count\n",
    "  - Sale price & units sold\n",
    "  - Author ratings & book performance\n",
    "\n",
    "📈 **Trends & Groupings:**\n",
    "- Grouped by **author, publisher, and language** to uncover top performers\n",
    "- Identified **key contributors** to publisher revenue and units sold\n",
    "- Visualized annual book sales trends with a **line chart**\n",
    "\n",
    "💡 **Key Insight:** Strong correlations emerged between **average rating**, **number of ratings**, and **units sold** — showing how reader engagement often drives sales.\n",
    "\n",
    "---\n",
    "\n",
    "📌 Tools Used: `Pandas`, `Matplotlib`, `Seaborn`  \n",
    "💻 Skills Highlighted: Data wrangling, visualization, exploratory analysis\n",
    "\n",
    "🔗 Curious to know how data like this could help optimize publishing strategies!\n",
    "\n",
    "#DataScience #Python #BookAnalysis #Visualization #Pandas #Seaborn #LinkedInLearning #PortfolioProject #EDA\n"
   ]
  }
 ],
 "metadata": {},
 "nbformat": 4,
 "nbformat_minor": 5
}
