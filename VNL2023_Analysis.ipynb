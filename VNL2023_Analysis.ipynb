{
 "cells": [
  {
   "cell_type": "markdown",
   "id": "42a906f5",
   "metadata": {},
   "source": [
    "# 🏐 Exploratory Data Analysis on Volleyball Nations League 2023\n",
    "\n",
    "This project explores the statistics of players participating in the Volleyball Nations League 2023 (VNL 2023). The goal is to analyze player performance, compare countries, and find patterns in the data using data visualization and summary statistics.\n"
   ]
  },
  {
   "cell_type": "code",
   "execution_count": null,
   "id": "63ace84f",
   "metadata": {},
   "outputs": [],
   "source": [
    "import pandas as pd\n",
    "import matplotlib.pyplot as plt\n",
    "import seaborn as sns\n",
    "\n",
    "# Load dataset\n",
    "df = pd.read_csv('VNL2023.csv')"
   ]
  },
  {
   "cell_type": "markdown",
   "id": "3c84e153",
   "metadata": {},
   "source": [
    "## 📄 Dataset Overview\n",
    "Let's take a look at the structure and basic statistics of the dataset."
   ]
  },
  {
   "cell_type": "code",
   "execution_count": null,
   "id": "2bb23a76",
   "metadata": {},
   "outputs": [],
   "source": [
    "df.head()"
   ]
  },
  {
   "cell_type": "code",
   "execution_count": null,
   "id": "1f61a4f9",
   "metadata": {},
   "outputs": [],
   "source": [
    "df.describe()"
   ]
  },
  {
   "cell_type": "code",
   "execution_count": null,
   "id": "083501b9",
   "metadata": {},
   "outputs": [],
   "source": [
    "df.isnull().sum()  # Checking missing values"
   ]
  },
  {
   "cell_type": "code",
   "execution_count": null,
   "id": "f54c85b5",
   "metadata": {},
   "outputs": [],
   "source": [
    "df.duplicated().sum()  # Checking for duplicate rows"
   ]
  },
  {
   "cell_type": "markdown",
   "id": "29ee90a5",
   "metadata": {},
   "source": [
    "## 🔗 Correlation Analysis\n",
    "Checking correlations between numerical features to identify strong relationships."
   ]
  },
  {
   "cell_type": "code",
   "execution_count": null,
   "id": "2862fe01",
   "metadata": {},
   "outputs": [],
   "source": [
    "numeric_cols = df.select_dtypes(include=['int', 'float']).columns\n",
    "corr_matrix = df[numeric_cols].corr()\n",
    "corr_matrix"
   ]
  },
  {
   "cell_type": "code",
   "execution_count": null,
   "id": "d0544c5e",
   "metadata": {},
   "outputs": [],
   "source": [
    "sns.heatmap(corr_matrix, annot=True, linewidths=4)\n",
    "plt.title('Correlation Heatmap')\n",
    "plt.show()"
   ]
  },
  {
   "cell_type": "markdown",
   "id": "b2ca877c",
   "metadata": {},
   "source": [
    "## 🧩 Player Positions Distribution"
   ]
  },
  {
   "cell_type": "code",
   "execution_count": null,
   "id": "0de8657d",
   "metadata": {},
   "outputs": [],
   "source": [
    "df['Position'].value_counts().plot(kind='pie', autopct='%.2f')\n",
    "plt.title('Distribution of Player Positions')\n",
    "plt.ylabel('')\n",
    "plt.show()"
   ]
  },
  {
   "cell_type": "markdown",
   "id": "70434559",
   "metadata": {},
   "source": [
    "## ⚔️ Average Attack by Country"
   ]
  },
  {
   "cell_type": "code",
   "execution_count": null,
   "id": "da722f62",
   "metadata": {},
   "outputs": [],
   "source": [
    "avg_attack = df.groupby(\"Country\")[\"Attack\"].mean().sort_values(ascending=False)\n",
    "avg_attack.plot(kind='bar')\n",
    "plt.title('Average Attack by Country')\n",
    "plt.ylabel('Average Attack')\n",
    "plt.show()"
   ]
  },
  {
   "cell_type": "markdown",
   "id": "fdc144f9",
   "metadata": {},
   "source": [
    "## 🛡️ Total Digs by Country"
   ]
  },
  {
   "cell_type": "code",
   "execution_count": null,
   "id": "0b74ddf0",
   "metadata": {},
   "outputs": [],
   "source": [
    "df.groupby(\"Country\")[\"Dig\"].sum().sort_values(ascending=False).plot(kind=\"bar\")\n",
    "plt.title('Total Digs by Country')\n",
    "plt.ylabel('Total Digs')\n",
    "plt.show()"
   ]
  },
  {
   "cell_type": "markdown",
   "id": "a5b1d95e",
   "metadata": {},
   "source": [
    "## 📉 Block vs Receive Scatter Plot"
   ]
  },
  {
   "cell_type": "code",
   "execution_count": null,
   "id": "08a31a31",
   "metadata": {},
   "outputs": [],
   "source": [
    "sns.scatterplot(x=df['Block'], y=df['Receive'])\n",
    "plt.title('Block vs Receive')\n",
    "plt.xlabel('Block')\n",
    "plt.ylabel('Receive')\n",
    "plt.show()"
   ]
  },
  {
   "cell_type": "markdown",
   "id": "421dcc32",
   "metadata": {},
   "source": [
    "## 📦 Serve Performance Distribution"
   ]
  },
  {
   "cell_type": "code",
   "execution_count": null,
   "id": "52e83eb4",
   "metadata": {},
   "outputs": [],
   "source": [
    "sns.boxplot(x=df['Serve'])\n",
    "plt.title('Boxplot of Serve')\n",
    "plt.show()"
   ]
  },
  {
   "cell_type": "markdown",
   "id": "aa08b0a2",
   "metadata": {},
   "source": [
    "## 🎂 Age Distribution of Players"
   ]
  },
  {
   "cell_type": "code",
   "execution_count": null,
   "id": "02a370ef",
   "metadata": {},
   "outputs": [],
   "source": [
    "plt.hist(df['Age'], bins=20, color='blue', edgecolor='black')\n",
    "plt.title('Age Distribution')\n",
    "plt.xlabel('Age')\n",
    "plt.ylabel('Count')\n",
    "plt.show()"
   ]
  },
  {
   "cell_type": "markdown",
   "id": "b93d2c7f",
   "metadata": {},
   "source": [
    "## 📈 Serve vs Age Line Plot"
   ]
  },
  {
   "cell_type": "code",
   "execution_count": null,
   "id": "f371dff5",
   "metadata": {},
   "outputs": [],
   "source": [
    "sns.lineplot(x=df['Serve'], y=df['Age'])\n",
    "plt.title('Serve vs Age')\n",
    "plt.show()"
   ]
  },
  {
   "cell_type": "markdown",
   "id": "adeea905",
   "metadata": {},
   "source": [
    "## 🧱 Total Attack & Block by Country"
   ]
  },
  {
   "cell_type": "code",
   "execution_count": null,
   "id": "9710e392",
   "metadata": {},
   "outputs": [],
   "source": [
    "total_attack_block_by_country = df.groupby(\"Country\")[[\"Attack\", \"Block\"]].sum()\n",
    "total_attack_block_by_country.plot(kind=\"bar\", colormap=\"viridis\")\n",
    "plt.title(\"Total Attack & Block by Country\")\n",
    "plt.ylabel(\"Total Count\")\n",
    "plt.show()"
   ]
  },
  {
   "cell_type": "markdown",
   "id": "cf9f6573",
   "metadata": {},
   "source": [
    "## ✅ Conclusion\n",
    "\n",
    "- Countries with higher average attack scores are likely more offensive-oriented.\n",
    "- Some countries dominate in total digs, indicating stronger defense.\n",
    "- Serve performance and block/receive relationships offer insights into strategic roles.\n",
    "- The dataset shows a good distribution of player positions and age range.\n",
    "\n",
    "This analysis provides a strong base for deeper performance or team composition analysis in sports analytics.\n"
   ]
  }
 ],
 "metadata": {
  "kernelspec": {
   "display_name": "Python [conda env:base] *",
   "language": "python",
   "name": "conda-base-py"
  },
  "language_info": {
   "codemirror_mode": {
    "name": "ipython",
    "version": 3
   },
   "file_extension": ".py",
   "mimetype": "text/x-python",
   "name": "python",
   "nbconvert_exporter": "python",
   "pygments_lexer": "ipython3",
   "version": "3.12.7"
  }
 },
 "nbformat": 4,
 "nbformat_minor": 5
}
